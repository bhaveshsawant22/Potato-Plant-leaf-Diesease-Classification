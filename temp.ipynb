{
 "cells": [
  {
   "cell_type": "code",
   "execution_count": 1,
   "id": "18ab6f04",
   "metadata": {},
   "outputs": [],
   "source": [
    "import tensorflow as tf\n",
    "from tensorflow.keras import models, layers\n",
    "import matplotlib.pyplot as plt\n",
    "from IPython.display import HTML"
   ]
  },
  {
   "cell_type": "code",
   "execution_count": 2,
   "id": "9fcaf5d5",
   "metadata": {},
   "outputs": [],
   "source": [
    "BATCH_SIZE = 32\n",
    "IMAGE_SIZE = 256\n",
    "CHANNELS=3\n",
    "EPOCHS=50"
   ]
  },
  {
   "cell_type": "code",
   "execution_count": 3,
   "id": "17475df4",
   "metadata": {},
   "outputs": [
    {
     "name": "stdout",
     "output_type": "stream",
     "text": [
      "Found 2152 files belonging to 3 classes.\n"
     ]
    }
   ],
   "source": [
    "dataset = tf.keras.preprocessing.image_dataset_from_directory(\n",
    "    \"PlantVillage\",\n",
    "    seed=123,\n",
    "    shuffle=True,\n",
    "    image_size=(IMAGE_SIZE,IMAGE_SIZE),\n",
    "    batch_size=BATCH_SIZE\n",
    ")"
   ]
  },
  {
   "cell_type": "code",
   "execution_count": 4,
   "id": "9abbbf6d",
   "metadata": {},
   "outputs": [
    {
     "data": {
      "text/plain": [
       "['Potato___Early_blight', 'Potato___Late_blight', 'Potato___healthy']"
      ]
     },
     "execution_count": 4,
     "metadata": {},
     "output_type": "execute_result"
    }
   ],
   "source": [
    "class_names = dataset.class_names\n",
    "class_names"
   ]
  },
  {
   "cell_type": "code",
   "execution_count": 5,
   "id": "90d19553",
   "metadata": {},
   "outputs": [
    {
     "name": "stdout",
     "output_type": "stream",
     "text": [
      "(32, 256, 256, 3)\n",
      "[1 1 1 0 0 0 0 0 1 1 1 1 0 1 0 1 1 1 0 1 0 1 0 0 1 0 0 1 1 2 0 0]\n"
     ]
    }
   ],
   "source": [
    "for image_batch, labels_batch in dataset.take(1):\n",
    "    print(image_batch.shape)\n",
    "    print(labels_batch.numpy())"
   ]
  },
  {
   "cell_type": "code",
   "execution_count": 7,
   "id": "8915077b",
   "metadata": {},
   "outputs": [
    {
     "data": {
      "text/plain": [
       "68"
      ]
     },
     "execution_count": 7,
     "metadata": {},
     "output_type": "execute_result"
    }
   ],
   "source": [
    "len(dataset)"
   ]
  },
  {
   "cell_type": "code",
   "execution_count": 8,
   "id": "d435c2c8",
   "metadata": {},
   "outputs": [
    {
     "name": "stdout",
     "output_type": "stream",
     "text": [
      "[[[163. 161. 172.]\n",
      "  [129. 127. 138.]\n",
      "  [108. 106. 117.]\n",
      "  ...\n",
      "  [163. 161. 175.]\n",
      "  [158. 156. 170.]\n",
      "  [153. 151. 165.]]\n",
      "\n",
      " [[149. 147. 158.]\n",
      "  [ 98.  96. 107.]\n",
      "  [144. 142. 153.]\n",
      "  ...\n",
      "  [159. 157. 171.]\n",
      "  [165. 163. 177.]\n",
      "  [168. 166. 180.]]\n",
      "\n",
      " [[100.  98. 109.]\n",
      "  [117. 115. 126.]\n",
      "  [188. 186. 199.]\n",
      "  ...\n",
      "  [163. 161. 175.]\n",
      "  [164. 162. 176.]\n",
      "  [164. 162. 176.]]\n",
      "\n",
      " ...\n",
      "\n",
      " [[142. 138. 153.]\n",
      "  [120. 116. 131.]\n",
      "  [136. 132. 147.]\n",
      "  ...\n",
      "  [180. 178. 191.]\n",
      "  [178. 176. 189.]\n",
      "  [189. 187. 200.]]\n",
      "\n",
      " [[118. 114. 129.]\n",
      "  [102.  98. 113.]\n",
      "  [157. 153. 168.]\n",
      "  ...\n",
      "  [177. 175. 188.]\n",
      "  [172. 170. 183.]\n",
      "  [177. 175. 188.]]\n",
      "\n",
      " [[123. 119. 134.]\n",
      "  [128. 124. 139.]\n",
      "  [148. 144. 159.]\n",
      "  ...\n",
      "  [205. 203. 216.]\n",
      "  [188. 186. 199.]\n",
      "  [173. 171. 184.]]]\n"
     ]
    }
   ],
   "source": [
    "for image_batch, labels_batch in dataset.take(1):\n",
    "    print(image_batch[0].numpy())"
   ]
  }
 ],
 "metadata": {
  "kernelspec": {
   "display_name": "Python 3 (ipykernel)",
   "language": "python",
   "name": "python3"
  },
  "language_info": {
   "codemirror_mode": {
    "name": "ipython",
    "version": 3
   },
   "file_extension": ".py",
   "mimetype": "text/x-python",
   "name": "python",
   "nbconvert_exporter": "python",
   "pygments_lexer": "ipython3",
   "version": "3.9.12"
  }
 },
 "nbformat": 4,
 "nbformat_minor": 5
}
